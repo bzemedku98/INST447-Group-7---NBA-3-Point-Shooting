{
 "cells": [
  {
   "attachments": {},
   "cell_type": "markdown",
   "metadata": {},
   "source": [
    "# Influence of 3-Point Shots in the NBA "
   ]
  },
  {
   "attachments": {},
   "cell_type": "markdown",
   "metadata": {},
   "source": [
    "For this project, we'll mainly be examining how 3-point shots influence NBA games and the overall win-rate. "
   ]
  },
  {
   "cell_type": "code",
   "execution_count": 3,
   "metadata": {},
   "outputs": [
    {
     "ename": "AttributeError",
     "evalue": "partially initialized module 'pandas' has no attribute 'core' (most likely due to a circular import)",
     "output_type": "error",
     "traceback": [
      "\u001b[1;31m---------------------------------------------------------------------------\u001b[0m",
      "\u001b[1;31mAttributeError\u001b[0m                            Traceback (most recent call last)",
      "Cell \u001b[1;32mIn[3], line 1\u001b[0m\n\u001b[1;32m----> 1\u001b[0m \u001b[39mimport\u001b[39;00m \u001b[39mpandas\u001b[39;00m \u001b[39mas\u001b[39;00m \u001b[39mpd\u001b[39;00m\n\u001b[0;32m      2\u001b[0m \u001b[39mimport\u001b[39;00m \u001b[39mnumpy\u001b[39;00m \u001b[39mas\u001b[39;00m \u001b[39mnp\u001b[39;00m\n\u001b[0;32m      3\u001b[0m \u001b[39mimport\u001b[39;00m \u001b[39mmatplotlib\u001b[39;00m \u001b[39mas\u001b[39;00m \u001b[39mplt\u001b[39;00m\n",
      "File \u001b[1;32mc:\\Users\\ccobr\\OneDrive\\Desktop\\INST447-Group-7---NBA-3-Point-Shooting\\.venv\\lib\\site-packages\\pandas\\__init__.py:138\u001b[0m\n\u001b[0;32m    120\u001b[0m \u001b[39mfrom\u001b[39;00m \u001b[39mpandas\u001b[39;00m\u001b[39m.\u001b[39;00m\u001b[39mcore\u001b[39;00m\u001b[39m.\u001b[39;00m\u001b[39mreshape\u001b[39;00m\u001b[39m.\u001b[39;00m\u001b[39mapi\u001b[39;00m \u001b[39mimport\u001b[39;00m (\n\u001b[0;32m    121\u001b[0m     concat,\n\u001b[0;32m    122\u001b[0m     lreshape,\n\u001b[1;32m   (...)\u001b[0m\n\u001b[0;32m    134\u001b[0m     qcut,\n\u001b[0;32m    135\u001b[0m )\n\u001b[0;32m    137\u001b[0m \u001b[39mfrom\u001b[39;00m \u001b[39mpandas\u001b[39;00m \u001b[39mimport\u001b[39;00m api, arrays, errors, io, plotting, tseries\n\u001b[1;32m--> 138\u001b[0m \u001b[39mfrom\u001b[39;00m \u001b[39mpandas\u001b[39;00m \u001b[39mimport\u001b[39;00m testing\n\u001b[0;32m    139\u001b[0m \u001b[39mfrom\u001b[39;00m \u001b[39mpandas\u001b[39;00m\u001b[39m.\u001b[39;00m\u001b[39mutil\u001b[39;00m\u001b[39m.\u001b[39;00m\u001b[39m_print_versions\u001b[39;00m \u001b[39mimport\u001b[39;00m show_versions\n\u001b[0;32m    141\u001b[0m \u001b[39mfrom\u001b[39;00m \u001b[39mpandas\u001b[39;00m\u001b[39m.\u001b[39;00m\u001b[39mio\u001b[39;00m\u001b[39m.\u001b[39;00m\u001b[39mapi\u001b[39;00m \u001b[39mimport\u001b[39;00m (\n\u001b[0;32m    142\u001b[0m     \u001b[39m# excel\u001b[39;00m\n\u001b[0;32m    143\u001b[0m     ExcelFile,\n\u001b[1;32m   (...)\u001b[0m\n\u001b[0;32m    171\u001b[0m     read_spss,\n\u001b[0;32m    172\u001b[0m )\n",
      "File \u001b[1;32mc:\\Users\\ccobr\\OneDrive\\Desktop\\INST447-Group-7---NBA-3-Point-Shooting\\.venv\\lib\\site-packages\\pandas\\testing.py:6\u001b[0m\n\u001b[0;32m      1\u001b[0m \u001b[39m\"\"\"\u001b[39;00m\n\u001b[0;32m      2\u001b[0m \u001b[39mPublic testing utility functions.\u001b[39;00m\n\u001b[0;32m      3\u001b[0m \u001b[39m\"\"\"\u001b[39;00m\n\u001b[1;32m----> 6\u001b[0m \u001b[39mfrom\u001b[39;00m \u001b[39mpandas\u001b[39;00m\u001b[39m.\u001b[39;00m\u001b[39m_testing\u001b[39;00m \u001b[39mimport\u001b[39;00m (\n\u001b[0;32m      7\u001b[0m     assert_extension_array_equal,\n\u001b[0;32m      8\u001b[0m     assert_frame_equal,\n\u001b[0;32m      9\u001b[0m     assert_index_equal,\n\u001b[0;32m     10\u001b[0m     assert_series_equal,\n\u001b[0;32m     11\u001b[0m )\n\u001b[0;32m     13\u001b[0m __all__ \u001b[39m=\u001b[39m [\n\u001b[0;32m     14\u001b[0m     \u001b[39m\"\u001b[39m\u001b[39massert_extension_array_equal\u001b[39m\u001b[39m\"\u001b[39m,\n\u001b[0;32m     15\u001b[0m     \u001b[39m\"\u001b[39m\u001b[39massert_frame_equal\u001b[39m\u001b[39m\"\u001b[39m,\n\u001b[0;32m     16\u001b[0m     \u001b[39m\"\u001b[39m\u001b[39massert_series_equal\u001b[39m\u001b[39m\"\u001b[39m,\n\u001b[0;32m     17\u001b[0m     \u001b[39m\"\u001b[39m\u001b[39massert_index_equal\u001b[39m\u001b[39m\"\u001b[39m,\n\u001b[0;32m     18\u001b[0m ]\n",
      "File \u001b[1;32mc:\\Users\\ccobr\\OneDrive\\Desktop\\INST447-Group-7---NBA-3-Point-Shooting\\.venv\\lib\\site-packages\\pandas\\_testing\\__init__.py:914\u001b[0m\n\u001b[0;32m    909\u001b[0m     \u001b[39mimport\u001b[39;00m \u001b[39mpytest\u001b[39;00m\n\u001b[0;32m    911\u001b[0m     \u001b[39mreturn\u001b[39;00m pytest\u001b[39m.\u001b[39mraises(expected_exception, match\u001b[39m=\u001b[39m\u001b[39mNone\u001b[39;00m)\n\u001b[1;32m--> 914\u001b[0m cython_table \u001b[39m=\u001b[39m pd\u001b[39m.\u001b[39;49mcore\u001b[39m.\u001b[39mcommon\u001b[39m.\u001b[39m_cython_table\u001b[39m.\u001b[39mitems()\n\u001b[0;32m    917\u001b[0m \u001b[39mdef\u001b[39;00m \u001b[39mget_cython_table_params\u001b[39m(ndframe, func_names_and_expected):\n\u001b[0;32m    918\u001b[0m \u001b[39m    \u001b[39m\u001b[39m\"\"\"\u001b[39;00m\n\u001b[0;32m    919\u001b[0m \u001b[39m    Combine frame, functions from com._cython_table\u001b[39;00m\n\u001b[0;32m    920\u001b[0m \u001b[39m    keys and expected result.\u001b[39;00m\n\u001b[1;32m   (...)\u001b[0m\n\u001b[0;32m    932\u001b[0m \u001b[39m        List of three items (DataFrame, function, expected result)\u001b[39;00m\n\u001b[0;32m    933\u001b[0m \u001b[39m    \"\"\"\u001b[39;00m\n",
      "\u001b[1;31mAttributeError\u001b[0m: partially initialized module 'pandas' has no attribute 'core' (most likely due to a circular import)"
     ]
    }
   ],
   "source": [
    "import pandas as pd\n",
    "import numpy as np\n",
    "import matplotlib as plt"
   ]
  },
  {
   "cell_type": "code",
   "execution_count": null,
   "metadata": {},
   "outputs": [],
   "source": [
    "nba_shots = pd.read_csv('NBA3ptShootingData(13-20).csv')\n",
    "nba_shots.head(4)"
   ]
  },
  {
   "cell_type": "markdown",
   "metadata": {},
   "source": [
    "First we have to perform some level 1 data cleaning."
   ]
  },
  {
   "cell_type": "code",
   "execution_count": null,
   "metadata": {},
   "outputs": [],
   "source": [
    "nba_shots = nba_shots.drop(['Unnamed: 6', 'Unnamed: 7', 'Unnamed: 8', 'Unnamed: 9', 'Unnamed: 10'], axis=1)\n",
    "nba_shots"
   ]
  },
  {
   "cell_type": "code",
   "execution_count": null,
   "metadata": {},
   "outputs": [],
   "source": [
    "nba_shots = nba_shots.rename(columns={'Teams': 'Team'})\n",
    "nba_shots.head(1)"
   ]
  },
  {
   "cell_type": "code",
   "execution_count": null,
   "metadata": {},
   "outputs": [],
   "source": [
    "nba_wins = pd.read_csv('win percentage.csv')\n",
    "nba_wins =  nba_wins.drop(nba_wins.index[0])\n",
    "nba_wins = nba_wins.rename(columns={'TEAMS': 'Team'})\n",
    "\n",
    "#'2013-14 Win %': 'Win Pct', '2014-15 Win %': 'Win Pct',\n",
    "#'2015-16 Win %': 'Win Pct', '2016-17 Win %': 'Win Pct',\n",
    "#'2017-18 Win %': 'Win Pct', '2018-19 Win %': 'Win Pct',\n",
    "#'2019-20 Win %': 'Win Pct',})\n",
    "\n",
    "nba_wins = nba_wins.sort_values(by=['Team'])\n",
    "nba_teams_dict = {'Atlanta': 'Atlanta Hawks',\n",
    "    'Boston': 'Boston Celtics',\n",
    "    'Brooklyn': 'Brooklyn Nets',\n",
    "    'Charlotte': 'Charlotte Hornets',\n",
    "    'Chicago': 'Chicago Bulls',\n",
    "    'Cleveland': 'Cleveland Cavaliers',\n",
    "    'Dallas': 'Dallas Mavericks',\n",
    "    'Denver': 'Denver Nuggets',\n",
    "    'Detroit': 'Detroit Pistons',\n",
    "    'Golden State': 'Golden State Warriors',\n",
    "    'Houston': 'Houston Rockets',\n",
    "    'Indiana': 'Indiana Pacers',\n",
    "    'LA': 'Los Angeles Clippers',\n",
    "    'LA Lakers': 'Los Angeles Lakers',\n",
    "    'Memphis': 'Memphis Grizzlies',\n",
    "    'Miami': 'Miami Heat',\n",
    "    'Milwaukee': 'Milwaukee Bucks',\n",
    "    'Minnesota': 'Minnesota Timberwolves',\n",
    "    'New Orleans': 'New Orleans Pelicans',\n",
    "    'New York': 'New York Knicks',\n",
    "    'Oklahoma City': 'Oklahoma City Thunder',\n",
    "    'Orlando': 'Orlando Magic',\n",
    "    'Philadelphia': 'Philadelphia 76ers',\n",
    "    'Phoenix': 'Phoenix Suns',\n",
    "    'Portland': 'Portland Trail Blazers',\n",
    "    'Sacramento': 'Sacramento Kings',\n",
    "    'San Antonio': 'San Antonio Spurs',\n",
    "    'Toronto': 'Toronto Raptors',\n",
    "    'Utah': 'Utah Jazz',\n",
    "    'Washington': 'Washington Wizards'}\n",
    "\n",
    "nba_wins['Team'] = nba_wins['Team'].replace(nba_teams_dict)\n",
    "nba_wins"
   ]
  },
  {
   "cell_type": "code",
   "execution_count": null,
   "metadata": {},
   "outputs": [],
   "source": [
    "nba_columns = nba_wins.columns.tolist()\n",
    "for i, col in enumerate(nba_columns):\n",
    "    print(f\"Column {i}: {col}\")"
   ]
  },
  {
   "cell_type": "code",
   "execution_count": null,
   "metadata": {},
   "outputs": [],
   "source": [
    "start_col = 1\n",
    "end_col = 8\n",
    "selected_values = nba_wins.iloc[:, start_col:end_col].values.flatten().tolist()\n",
    "print(selected_values)"
   ]
  },
  {
   "cell_type": "code",
   "execution_count": null,
   "metadata": {},
   "outputs": [],
   "source": [
    "teams_list = ['Atlanta Hawks', 'Boston Celtics', 'Brooklyn Nets', 'Charlotte Hornets', 'Chicago Bulls', 'Cleveland Cavaliers',\n",
    "              'Dallas Mavericks', 'Denver Nuggets', 'Detroit Pistons', 'Golden State Warriors', 'Houston Rockets',\n",
    "              'Indiana Pacers', 'Los Angeles Clippers', 'Los Angeles Lakers', 'Memphis Grizzlies', 'Miami Heat',\n",
    "              'Milwaukee Bucks', 'Minnesota Timberwolves', 'New Orleans Pelicans', 'New York Knicks',\n",
    "              'Oklahoma City Thunder', 'Orlando Magic', 'Philadelphia 76ers', 'Phoenix Suns', 'Portland Trail Blazers',\n",
    "              'Sacramento Kings', 'San Antonio Spurs', 'Toronto Raptors', 'Utah Jazz', 'Washington Wizards']\n",
    "\n",
    "years_list = ['2013-14', '2014-15', '2015-16', '2016-17', '2017-18', '2018-19', '2019-20']\n",
    "\n",
    "# Create a new dataframe with team names appearing 7 times each\n",
    "nba_df = pd.DataFrame({'Team': np.repeat(teams_list, 7)})\n",
    "nba_df.insert(loc=1, column='Year', value=np.repeat(years_list, 30)) #7 seasons by 30 = 210 to match column\n",
    "nba_df['index'] = nba_df.groupby('Team').cumcount()\n",
    "nba_df['Year'] = nba_df['index'] + int(nba_df['Year'].iloc[0][:4]) \n",
    "nba_df['Year'] = nba_df['Year'].astype(str) + '-' + nba_df['Year'].add(1).astype(str).str[2:4] # shift year by 1 and convert to string\n",
    "nba_df.drop(columns=['index'], inplace=True)\n",
    "nba_df"
   ]
  },
  {
   "cell_type": "code",
   "execution_count": null,
   "metadata": {},
   "outputs": [],
   "source": [
    "counts = nba_df['Team'].value_counts()\n",
    "print(counts)"
   ]
  },
  {
   "cell_type": "code",
   "execution_count": null,
   "metadata": {},
   "outputs": [],
   "source": [
    "\n",
    "teams_list = ['Atlanta Hawks', 'Boston Celtics', 'Brooklyn Nets', 'Charlotte Hornets', 'Chicago Bulls', 'Cleveland Cavaliers',\n",
    "              'Dallas Mavericks', 'Denver Nuggets', 'Detroit Pistons', 'Golden State Warriors', 'Houston Rockets',\n",
    "              'Indiana Pacers', 'Los Angeles Clippers', 'Los Angeles Lakers', 'Memphis Grizzlies', 'Miami Heat',\n",
    "              'Milwaukee Bucks', 'Minnesota Timberwolves', 'New Orleans Pelicans', 'New York Knicks',\n",
    "              'Oklahoma City Thunder', 'Orlando Magic', 'Philadelphia 76ers', 'Phoenix Suns', 'Portland Trail Blazers',\n",
    "              'Sacramento Kings', 'San Antonio Spurs', 'Toronto Raptors', 'Utah Jazz', 'Washington Wizards']\n",
    "\n",
    "win_pcts = pd.DataFrame({'Team': np.repeat(teams_list, 7)})\n",
    "win_pcts.insert(loc=1, column='Year', value=np.repeat(years_list, 30)) #7 seasons by 30 = 210 to match column\n",
    "win_pcts ['index'] = win_pcts.groupby('Team').cumcount()\n",
    "\n",
    "win_pcts['Year'] = win_pcts['index'] + int(win_pcts['Year'].iloc[0][:4]) \n",
    "win_pcts['Year'] = win_pcts['Year'].astype(str) + '-' + win_pcts['Year'].add(1).astype(str).str[2:4]\n",
    "\n",
    "win_pcts['Win Pct'] = ['0.463', '0.732', '0.585', '0.524', '0.293', '0.354', '0.299', '0.305', '0.488', '0.585', '0.646', '0.671', '0.598', '0.667', '0.537', '0.463', '0.256', '0.244', '0.341', '0.512', '0.486', '0.524', '0.402', '0.585', '0.439', '0.439', '0.476', '0.354', '0.585', '0.61', '0.512', '0.5', '0.329', '0.268', '0.338', '0.402', '0.646', '0.695', '0.622', '0.61', '0.232', '0.292', '0.598', '0.61', '0.512', '0.402', '0.293', '0.402', '0.573', '0.439', '0.366', '0.402', '0.488', '0.561', '0.659', '0.63', '0.354', '0.39', '0.537', '0.451', '0.476', '0.5', '0.303', '0.622', '0.817', '0.89', '0.817', '0.707', '0.695', '0.231', '0.659', '0.683', '0.5', '0.671', '0.793', '0.646', '0.611', '0.683', '0.463', '0.549', '0.512', '0.585', '0.585', '0.616', '0.695', '0.683', '0.646', '0.622', '0.512', '0.585', '0.681', '0.329', '0.256', '0.207', '0.317', '0.427', '0.451', '0.732', '0.61', '0.671', '0.512', '0.524', '0.268', '0.402', '0.466', '0.659', '0.451', '0.585', '0.5', '0.537', '0.476', '0.603', '0.183', '0.5', '0.402', '0.512', '0.537', '0.732', '0.767', '0.488', '0.195', '0.354', '0.378', '0.573', '0.439', '0.297', '0.415', '0.549', '0.366', '0.415', '0.585', '0.402', '0.417', '0.451', '0.207', '0.39', '0.378', '0.354', '0.207', '0.318', '0.72', '0.549', '0.671', '0.573', '0.585', '0.598', '0.611', '0.28', '0.305', '0.427', '0.354', '0.305', '0.512', '0.452', '0.232', '0.22', '0.122', '0.341', '0.634', '0.622', '0.589', '0.585', '0.476', '0.28', '0.293', '0.256', '0.232', '0.466', '0.659', '0.622', '0.537', '0.5', '0.598', '0.646', '0.473', '0.341', '0.354', '0.402', '0.39', '0.329', '0.476', '0.431', '0.756', '0.671', '0.817', '0.744', '0.573', '0.585', '0.451', '0.585', '0.598', '0.683', '0.622', '0.72', '0.707', '0.736', '0.305', '0.463', '0.488', '0.622', '0.585', '0.61', '0.611', '0.537', '0.561', '0.5', '0.598', '0.524', '0.39', '0.347']\n",
    "win_pcts = win_pcts.drop(columns=['index'])\n",
    "win_pcts"
   ]
  },
  {
   "attachments": {},
   "cell_type": "markdown",
   "metadata": {},
   "source": [
    "    Now we can merge the dataframes together."
   ]
  },
  {
   "cell_type": "code",
   "execution_count": null,
   "metadata": {},
   "outputs": [],
   "source": [
    "test = pd.merge(nba_shots, win_pcts, on= 'Year') \n",
    "test.drop(columns=['Team_y'], inplace=True)\n",
    "test = test.rename(columns={'Team_x': 'Team'})\n",
    "\n",
    "fixed_merge = test.groupby(['Team', 'Year']).first().reset_index()\n",
    "fixed_merge"
   ]
  },
  {
   "cell_type": "code",
   "execution_count": null,
   "metadata": {},
   "outputs": [],
   "source": [
    "counts = fixed_merge['Team'].value_counts()\n",
    "print(counts)"
   ]
  }
 ],
 "metadata": {
  "kernelspec": {
   "display_name": ".venv",
   "language": "python",
   "name": "python3"
  },
  "language_info": {
   "codemirror_mode": {
    "name": "ipython",
    "version": 3
   },
   "file_extension": ".py",
   "mimetype": "text/x-python",
   "name": "python",
   "nbconvert_exporter": "python",
   "pygments_lexer": "ipython3",
   "version": "3.9.13"
  },
  "orig_nbformat": 4
 },
 "nbformat": 4,
 "nbformat_minor": 2
}
