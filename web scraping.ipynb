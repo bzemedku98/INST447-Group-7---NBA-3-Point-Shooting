{
 "cells": [
  {
   "cell_type": "code",
   "execution_count": 1,
   "metadata": {},
   "outputs": [],
   "source": [
    "import requests\n",
    "import pandas as pd\n",
    "from bs4 import BeautifulSoup\n",
    "import csv"
   ]
  },
  {
   "cell_type": "code",
   "execution_count": 2,
   "metadata": {},
   "outputs": [],
   "source": [
    "# Define the URL to scrape\n",
    "url = 'http://www.espn.com/nba/stats/rpi/_/year/{}'\n",
    "\n",
    "# Define the years to scrape\n",
    "years = range(2014, 2024)\n",
    "\n",
    "# Define the name of the output file\n",
    "output_file = 'win percentage.csv'\n",
    "\n",
    "# Create a dictionary to store the data\n",
    "data = {}\n",
    "\n",
    "# Loop over the years and scrape the data\n",
    "for year in years:\n",
    "    # Make a request to the URL for the current year\n",
    "    response = requests.get(url.format(year))\n",
    "\n",
    "    # Parse the HTML content of the response with Beautiful Soup\n",
    "    soup = BeautifulSoup(response.content, 'html.parser')\n",
    "\n",
    "    # Find the table that contains the data\n",
    "    table = soup.find('table', class_='tablehead')\n",
    "\n",
    "    # Loop over the rows in the table and extract the data\n",
    "    for row in table.find_all('tr')[1:]:\n",
    "        columns = row.find_all('td')\n",
    "        rank = columns[0].text.strip()\n",
    "        team = columns[1].text.strip()\n",
    "        win_percentage = columns[5].text.strip()\n",
    "\n",
    "        # Add the data to the dictionary\n",
    "        if team not in data:\n",
    "            data[team] = {}\n",
    "        data[team][str(year)] = win_percentage\n",
    "\n",
    "# Write the data to the output file\n",
    "with open(output_file, 'w', newline='') as csvfile:\n",
    "    writer = csv.writer(csvfile)\n",
    "\n",
    "    # Write the header row\n",
    "    header = ['TEAMS'] + [str(year) + ' Win %' for year in years]\n",
    "    writer.writerow(header)\n",
    "\n",
    "    # Write the data rows\n",
    "    for team, win_percentages in data.items():\n",
    "        row = [team] + [win_percentages.get(str(year), '') for year in years]\n",
    "        writer.writerow(row)\n"
   ]
  },
  {
   "cell_type": "code",
   "execution_count": 3,
   "metadata": {},
   "outputs": [
    {
     "ename": "NameError",
     "evalue": "name 'pd' is not defined",
     "output_type": "error",
     "traceback": [
      "\u001b[1;31m---------------------------------------------------------------------------\u001b[0m",
      "\u001b[1;31mNameError\u001b[0m                                 Traceback (most recent call last)",
      "Cell \u001b[1;32mIn[3], line 1\u001b[0m\n\u001b[1;32m----> 1\u001b[0m winPercentage_df \u001b[39m=\u001b[39m pd\u001b[39m.\u001b[39mread_csv(\u001b[39m\"\u001b[39m\u001b[39mwin_percentage.csv\u001b[39m\u001b[39m\"\u001b[39m)\n\u001b[0;32m      2\u001b[0m winPercentage_df\u001b[39m.\u001b[39mhead()\n",
      "\u001b[1;31mNameError\u001b[0m: name 'pd' is not defined"
     ]
    }
   ],
   "source": [
    "winPercentage_df = pd.read_csv(\"win_percentage.csv\")\n",
    "winPercentage_df.head()"
   ]
  }
 ],
 "metadata": {
  "kernelspec": {
   "display_name": ".venv",
   "language": "python",
   "name": "python3"
  },
  "language_info": {
   "codemirror_mode": {
    "name": "ipython",
    "version": 3
   },
   "file_extension": ".py",
   "mimetype": "text/x-python",
   "name": "python",
   "nbconvert_exporter": "python",
   "pygments_lexer": "ipython3",
   "version": "3.9.13"
  },
  "orig_nbformat": 4
 },
 "nbformat": 4,
 "nbformat_minor": 2
}
